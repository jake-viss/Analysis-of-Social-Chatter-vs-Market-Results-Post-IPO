{
 "cells": [
  {
   "cell_type": "code",
   "execution_count": 1,
   "id": "10ea99bb-a4d2-4e86-a7ff-5ddc49654b5d",
   "metadata": {},
   "outputs": [
    {
     "data": {
      "text/plain": [
       "0"
      ]
     },
     "execution_count": 1,
     "metadata": {},
     "output_type": "execute_result"
    }
   ],
   "source": [
    "import os\n",
    "\n",
    "# Using OS library to call CLI commands to run snscrape. Snscrape searches twitter for tweets that contain\n",
    "#the specified IPO ticker symbols for the 3 months after the IPO.\n",
    "os.system(\"snscrape --jsonl --max-results 25000 --since 2021-07-28 twitter-search \\\"DUOL until:2021-10-27\\\" > text-query-tweets.json\")\n",
    "os.system(\"snscrape --jsonl --max-results 25000 --since 2021-07-21 twitter-search \\\"VTEX until:2021-10-20\\\" > text-query-tweets2.json\")\n",
    "os.system(\"snscrape --jsonl --max-results 25000 --since 2021-05-19 twitter-search \\\"SKYA until:2021-08-18\\\" > text-query-tweets3.json\")\n",
    "os.system(\"snscrape --jsonl --max-results 25000 --since 2021-03-11 twitter-search \\\"CPNG until:2021-06-10\\\" > text-query-tweets4.json\")\n",
    "os.system(\"snscrape --jsonl --max-results 25000 --since 2021-03-25 twitter-search \\\"VZIO until:2021-06-24\\\" > text-query-tweets5.json\")\n"
   ]
  },
  {
   "cell_type": "code",
   "execution_count": 2,
   "id": "cfc2ab55-be9d-4508-9959-6243f1bce2d1",
   "metadata": {},
   "outputs": [],
   "source": [
    "import pandas as pd\n",
    "\n",
    "# Reads the json generated from the CLI commands above and creates a pandas dataframe for each ticker searched.\n",
    "tweets_df = pd.read_json('text-query-tweets.json', lines=True)\n",
    "tweets_df2 = pd.read_json('text-query-tweets2.json', lines=True)\n",
    "tweets_df3 = pd.read_json('text-query-tweets3.json', lines=True)\n",
    "tweets_df4 = pd.read_json('text-query-tweets4.json', lines=True)\n",
    "tweets_df5 = pd.read_json('text-query-tweets5.json', lines=True)\n"
   ]
  },
  {
   "cell_type": "code",
   "execution_count": 3,
   "id": "45bcf4a3-d467-46ae-bb4d-01d48c353eb0",
   "metadata": {},
   "outputs": [],
   "source": [
    "#Create dataframe with only the dates column from the sns scrapes.\n",
    "dates = tweets_df[\"date\"]\n",
    "dates2 = tweets_df2[\"date\"]\n",
    "dates3 = tweets_df3[\"date\"]\n",
    "dates4 = tweets_df4[\"date\"]\n",
    "dates5 = tweets_df5[\"date\"]\n",
    "\n",
    "#Remove timestamp from dates in dataframe created in previous step.\n",
    "dates = pd.to_datetime(dates).dt.date\n",
    "dates2 = pd.to_datetime(dates2).dt.date\n",
    "dates3 = pd.to_datetime(dates3).dt.date\n",
    "dates4 = pd.to_datetime(dates4).dt.date\n",
    "dates5 = pd.to_datetime(dates5).dt.date\n"
   ]
  },
  {
   "cell_type": "code",
   "execution_count": 4,
   "id": "c2cada32-907e-4aa9-94ef-3074ea48432f",
   "metadata": {},
   "outputs": [],
   "source": [
    "#Output each tweet date dataframe to csv files.\n",
    "dates.to_csv('duoldates.csv')\n",
    "dates2.to_csv('vtexdates.csv')\n",
    "dates3.to_csv('skyadates.csv')\n",
    "dates4.to_csv('cpngdates.csv')\n",
    "dates5.to_csv('vziodates.csv')"
   ]
  },
  {
   "cell_type": "code",
   "execution_count": null,
   "id": "f451294a-43fa-413f-b16b-e8b3f80c5a00",
   "metadata": {},
   "outputs": [],
   "source": []
  },
  {
   "cell_type": "code",
   "execution_count": null,
   "id": "45d55dc1-1fce-4a84-bb75-4ffe13da37c0",
   "metadata": {},
   "outputs": [],
   "source": []
  }
 ],
 "metadata": {
  "kernelspec": {
   "display_name": "Python 3",
   "language": "python",
   "name": "python3"
  },
  "language_info": {
   "codemirror_mode": {
    "name": "ipython",
    "version": 3
   },
   "file_extension": ".py",
   "mimetype": "text/x-python",
   "name": "python",
   "nbconvert_exporter": "python",
   "pygments_lexer": "ipython3",
   "version": "3.7.7"
  }
 },
 "nbformat": 4,
 "nbformat_minor": 5
}
