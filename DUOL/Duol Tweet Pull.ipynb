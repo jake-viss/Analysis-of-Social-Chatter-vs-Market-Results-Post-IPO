{
 "cells": [
  {
   "cell_type": "code",
   "execution_count": 1,
   "id": "10ea99bb-a4d2-4e86-a7ff-5ddc49654b5d",
   "metadata": {},
   "outputs": [
    {
     "data": {
      "text/plain": [
       "0"
      ]
     },
     "execution_count": 1,
     "metadata": {},
     "output_type": "execute_result"
    }
   ],
   "source": [
    "import os\n",
    "\n",
    "# Using OS library to call CLI commands in Python\n",
    "os.system(\"snscrape --jsonl --max-results 25000 --since 2021-07-28 twitter-search \\\"DUOL until:2021-10-27\\\" > text-query-tweets.json\")\n"
   ]
  },
  {
   "cell_type": "code",
   "execution_count": 3,
   "id": "cfc2ab55-be9d-4508-9959-6243f1bce2d1",
   "metadata": {},
   "outputs": [
    {
     "data": {
      "text/html": [
       "<div>\n",
       "<style scoped>\n",
       "    .dataframe tbody tr th:only-of-type {\n",
       "        vertical-align: middle;\n",
       "    }\n",
       "\n",
       "    .dataframe tbody tr th {\n",
       "        vertical-align: top;\n",
       "    }\n",
       "\n",
       "    .dataframe thead th {\n",
       "        text-align: right;\n",
       "    }\n",
       "</style>\n",
       "<table border=\"1\" class=\"dataframe\">\n",
       "  <thead>\n",
       "    <tr style=\"text-align: right;\">\n",
       "      <th></th>\n",
       "      <th>id</th>\n",
       "      <th>replyCount</th>\n",
       "      <th>retweetCount</th>\n",
       "      <th>likeCount</th>\n",
       "      <th>quoteCount</th>\n",
       "      <th>conversationId</th>\n",
       "      <th>retweetedTweet</th>\n",
       "      <th>inReplyToTweetId</th>\n",
       "    </tr>\n",
       "  </thead>\n",
       "  <tbody>\n",
       "    <tr>\n",
       "      <th>count</th>\n",
       "      <td>4.815000e+03</td>\n",
       "      <td>4815.000000</td>\n",
       "      <td>4815.000000</td>\n",
       "      <td>4815.000000</td>\n",
       "      <td>4815.00000</td>\n",
       "      <td>4.815000e+03</td>\n",
       "      <td>0.0</td>\n",
       "      <td>1.672000e+03</td>\n",
       "    </tr>\n",
       "    <tr>\n",
       "      <th>mean</th>\n",
       "      <td>1.424606e+18</td>\n",
       "      <td>0.527726</td>\n",
       "      <td>1.246106</td>\n",
       "      <td>5.110488</td>\n",
       "      <td>0.18837</td>\n",
       "      <td>1.424377e+18</td>\n",
       "      <td>NaN</td>\n",
       "      <td>1.424578e+18</td>\n",
       "    </tr>\n",
       "    <tr>\n",
       "      <th>std</th>\n",
       "      <td>3.113697e+15</td>\n",
       "      <td>4.571321</td>\n",
       "      <td>44.358960</td>\n",
       "      <td>117.562195</td>\n",
       "      <td>5.24054</td>\n",
       "      <td>5.449537e+15</td>\n",
       "      <td>NaN</td>\n",
       "      <td>5.629668e+15</td>\n",
       "    </tr>\n",
       "    <tr>\n",
       "      <th>min</th>\n",
       "      <td>1.420174e+18</td>\n",
       "      <td>0.000000</td>\n",
       "      <td>0.000000</td>\n",
       "      <td>0.000000</td>\n",
       "      <td>0.00000</td>\n",
       "      <td>1.210313e+18</td>\n",
       "      <td>NaN</td>\n",
       "      <td>1.288673e+18</td>\n",
       "    </tr>\n",
       "    <tr>\n",
       "      <th>25%</th>\n",
       "      <td>1.421751e+18</td>\n",
       "      <td>0.000000</td>\n",
       "      <td>0.000000</td>\n",
       "      <td>0.000000</td>\n",
       "      <td>0.00000</td>\n",
       "      <td>1.421702e+18</td>\n",
       "      <td>NaN</td>\n",
       "      <td>1.422152e+18</td>\n",
       "    </tr>\n",
       "    <tr>\n",
       "      <th>50%</th>\n",
       "      <td>1.424286e+18</td>\n",
       "      <td>0.000000</td>\n",
       "      <td>0.000000</td>\n",
       "      <td>0.000000</td>\n",
       "      <td>0.00000</td>\n",
       "      <td>1.424227e+18</td>\n",
       "      <td>NaN</td>\n",
       "      <td>1.424737e+18</td>\n",
       "    </tr>\n",
       "    <tr>\n",
       "      <th>75%</th>\n",
       "      <td>1.427250e+18</td>\n",
       "      <td>1.000000</td>\n",
       "      <td>0.000000</td>\n",
       "      <td>1.000000</td>\n",
       "      <td>0.00000</td>\n",
       "      <td>1.427216e+18</td>\n",
       "      <td>NaN</td>\n",
       "      <td>1.427472e+18</td>\n",
       "    </tr>\n",
       "    <tr>\n",
       "      <th>max</th>\n",
       "      <td>1.430319e+18</td>\n",
       "      <td>266.000000</td>\n",
       "      <td>2790.000000</td>\n",
       "      <td>7104.000000</td>\n",
       "      <td>304.00000</td>\n",
       "      <td>1.430319e+18</td>\n",
       "      <td>NaN</td>\n",
       "      <td>1.430267e+18</td>\n",
       "    </tr>\n",
       "  </tbody>\n",
       "</table>\n",
       "</div>"
      ],
      "text/plain": [
       "                 id   replyCount  retweetCount    likeCount  quoteCount  \\\n",
       "count  4.815000e+03  4815.000000   4815.000000  4815.000000  4815.00000   \n",
       "mean   1.424606e+18     0.527726      1.246106     5.110488     0.18837   \n",
       "std    3.113697e+15     4.571321     44.358960   117.562195     5.24054   \n",
       "min    1.420174e+18     0.000000      0.000000     0.000000     0.00000   \n",
       "25%    1.421751e+18     0.000000      0.000000     0.000000     0.00000   \n",
       "50%    1.424286e+18     0.000000      0.000000     0.000000     0.00000   \n",
       "75%    1.427250e+18     1.000000      0.000000     1.000000     0.00000   \n",
       "max    1.430319e+18   266.000000   2790.000000  7104.000000   304.00000   \n",
       "\n",
       "       conversationId  retweetedTweet  inReplyToTweetId  \n",
       "count    4.815000e+03             0.0      1.672000e+03  \n",
       "mean     1.424377e+18             NaN      1.424578e+18  \n",
       "std      5.449537e+15             NaN      5.629668e+15  \n",
       "min      1.210313e+18             NaN      1.288673e+18  \n",
       "25%      1.421702e+18             NaN      1.422152e+18  \n",
       "50%      1.424227e+18             NaN      1.424737e+18  \n",
       "75%      1.427216e+18             NaN      1.427472e+18  \n",
       "max      1.430319e+18             NaN      1.430267e+18  "
      ]
     },
     "execution_count": 3,
     "metadata": {},
     "output_type": "execute_result"
    }
   ],
   "source": [
    "import pandas as pd\n",
    "\n",
    "# Reads the json generated from the CLI commands above and creates a pandas dataframe\n",
    "tweets_df = pd.read_json('text-query-tweets.json', lines=True)\n",
    "\n",
    "tweets_df.head()\n",
    "tweets_df.describe()"
   ]
  },
  {
   "cell_type": "code",
   "execution_count": 3,
   "id": "45bcf4a3-d467-46ae-bb4d-01d48c353eb0",
   "metadata": {},
   "outputs": [
    {
     "data": {
      "text/plain": [
       "0       2020-08-24\n",
       "1       2020-08-24\n",
       "2       2020-08-24\n",
       "3       2020-08-24\n",
       "4       2020-08-24\n",
       "           ...    \n",
       "4700    2020-07-28\n",
       "4701    2020-07-28\n",
       "4702    2020-07-28\n",
       "4703    2020-07-28\n",
       "4704    2020-07-28\n",
       "Name: date, Length: 4705, dtype: object"
      ]
     },
     "execution_count": 3,
     "metadata": {},
     "output_type": "execute_result"
    }
   ],
   "source": [
    "dates = tweets_df[\"date\"]\n",
    "dates = pd.to_datetime(dates).dt.date\n",
    "dates"
   ]
  },
  {
   "cell_type": "code",
   "execution_count": 4,
   "id": "c2cada32-907e-4aa9-94ef-3074ea48432f",
   "metadata": {},
   "outputs": [],
   "source": [
    "dates.to_csv('duoldates.csv')"
   ]
  },
  {
   "cell_type": "code",
   "execution_count": null,
   "id": "f451294a-43fa-413f-b16b-e8b3f80c5a00",
   "metadata": {},
   "outputs": [],
   "source": []
  }
 ],
 "metadata": {
  "kernelspec": {
   "display_name": "Python 3",
   "language": "python",
   "name": "python3"
  },
  "language_info": {
   "codemirror_mode": {
    "name": "ipython",
    "version": 3
   },
   "file_extension": ".py",
   "mimetype": "text/x-python",
   "name": "python",
   "nbconvert_exporter": "python",
   "pygments_lexer": "ipython3",
   "version": "3.7.7"
  }
 },
 "nbformat": 4,
 "nbformat_minor": 5
}
